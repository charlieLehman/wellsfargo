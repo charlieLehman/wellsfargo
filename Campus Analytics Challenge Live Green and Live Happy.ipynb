{
 "cells": [
  {
   "cell_type": "markdown",
   "metadata": {
    "ein.tags": "worksheet-0",
    "slideshow": {
     "slide_type": "-"
    }
   },
   "source": [
    "Using the data set, create a machine learning algorithm that minimizes carbon footprint for each customer while maintaining their total quality of life.  Your submission must include the components below:\n",
    "\n",
    "Deliverable 1\n",
    "\n",
    "A) Written description of how the data product succeeds mathematically in minimizing an individual’s carbon footprint with minimal negative impact on their utility\n",
    "\n",
    "B) Why the data product created is a good example of machine learning in action\n",
    "\n",
    "Deliverable 2\n",
    "\n",
    "A) General idea of how individuals would interface eg. a visual representation of the app\n",
    "\n",
    "Deliverable 3\n",
    "\n",
    "A) Documented code that is operational and can be run using the data provided\n"
   ]
  },
  {
   "cell_type": "code",
   "execution_count": 55,
   "metadata": {
    "autoscroll": false,
    "ein.hycell": false,
    "ein.tags": "worksheet-0",
    "slideshow": {
     "slide_type": "-"
    }
   },
   "outputs": [
    {
     "name": "stdout",
     "output_type": "stream",
     "text": [
      "27054\n",
      "Index(['Indnum', 'Group', 'Activity', 'Units', 'Consumption',\n",
      "       'Quality_of_Life_Importance__1_10', 'solar_powered__water_heater',\n",
      "       'gas_water_heater', 'electric_water_heater___peak_hou',\n",
      "       'electric_water_heater___off_peak', 'gas', 'natural_gas', 'hybrid',\n",
      "       'electric___peak_hours', 'electric___off_peak_hours', 'jetfuel'],\n",
      "      dtype='object')\n",
      "['Household heating => 70F' 'Household heating < 70F' 'Use of heat pump'\n",
      " 'Use of air conditioner' 'shower - short' 'shower - long (> 3 min)'\n",
      " 'bath' 'wash-up' 'use of dishwasher' 'use of clothes washer'\n",
      " 'use of clothes dryer' 'use of cooking range' 'use of  oven'\n",
      " 'use of self-clean feature of electric oven'\n",
      " 'Small kitchen appliance in the home' 'TV/computer use'\n",
      " 'air travel - large plane' 'air travel - small  plane (<50 seats)'\n",
      " 'car trips- self only' 'car trips - driver and self'\n",
      " 'car trips - 2+ people with multiple end points'\n",
      " 'trips using public ground transportation' 'bags of garbage disposed'\n",
      " 'bags of recycling deposited (negative CF)'\n",
      " 'bags of compost deposited (negative CF)'\n",
      " 'hazardous or electric items disposed' 'large items disposed']\n"
     ]
    }
   ],
   "source": [
    "import pandas as pd\n",
    "\n",
    "df = pd.read_csv('wells_Individuals.csv')\n",
    "print(len(df))\n",
    "print(df.columns)\n",
    "print(df['Activity'].unique())\n"
   ]
  },
  {
   "cell_type": "code",
   "execution_count": 159,
   "metadata": {
    "autoscroll": false,
    "ein.hycell": false,
    "ein.tags": "worksheet-0",
    "slideshow": {
     "slide_type": "-"
    }
   },
   "outputs": [],
   "source": [
    "import seaborn as sns\n",
    "import numpy as np\n",
    "% matplotlib inline\n",
    "from matplotlib import pyplot as plt\n",
    "\n",
    "(i, x, y) = (df['Indnum'].values, df['Quality_of_Life_Importance__1_10'], df['Consumption'])\n",
    "x = x.fillna(0).values\n",
    "y = y.fillna(0).values\n",
    "\n",
    "i = np.array(i)\n",
    "x = np.array(x)\n",
    "\n",
    "\n",
    "data = np.empty((np.unique(i).shape[0], 27, 2))\n",
    "for n in np.unique(i):\n",
    "    data[n-1, :, 0]=x[i==n]\n",
    "    data[n-1, :, 1]=y[i==n]\n"
   ]
  },
  {
   "cell_type": "code",
   "execution_count": 164,
   "metadata": {},
   "outputs": [
    {
     "name": "stdout",
     "output_type": "stream",
     "text": [
      "(27054, 11)\n",
      "(1002, 27, 2)\n",
      "(1002, 27, 11)\n"
     ]
    }
   ],
   "source": [
    "mask = np.tile(np.array(pd.read_csv('carbonfootprint.csv', header=None).fillna(0).values),(1002,1))\n",
    "idx = np.argsort([0,1,2,3,4,5,8,9,10,6,7])\n",
    "mask = mask[:,idx]\n",
    "fp = df.loc[:,'solar_powered__water_heater':].fillna(0)\n",
    "fp['waste management'] = np.ones(27054)\n",
    "fp = np.array(fp.values)*mask\n",
    "print(fp.shape)\n",
    "\n",
    "footprint = np.empty((np.unique(i).shape[0], 27, 11))\n",
    "for n in np.unique(i):\n",
    "    footprint[n-1, :, :] = fp[i==n,:]\n",
    "\n",
    "print(data.shape)\n",
    "print(footprint.shape)"
   ]
  },
  {
   "cell_type": "code",
   "execution_count": 88,
   "metadata": {},
   "outputs": [],
   "source": [
    "from sklearn.preprocessing import normalize\n",
    "from umap import UMAP\n",
    "\n",
    "d_w = np.prod(data, axis=2)\n",
    "\n",
    "d_train = normalize(d_w)\n",
    "reducer = UMAP()\n",
    "emb = reducer.fit_transform(d_train)\n"
   ]
  },
  {
   "cell_type": "code",
   "execution_count": 89,
   "metadata": {},
   "outputs": [
    {
     "data": {
      "text/plain": [
       "<matplotlib.collections.PathCollection at 0x7f5d16965b38>"
      ]
     },
     "execution_count": 89,
     "metadata": {},
     "output_type": "execute_result"
    },
    {
     "data": {
      "image/png": "[encoded data removed]",
      "text/plain": [
       "<Figure size 432x288 with 1 Axes>"
      ]
     },
     "metadata": {
      "needs_background": "light"
     },
     "output_type": "display_data"
    }
   ],
   "source": [
    "plt.scatter(emb[:,0], emb[:,1], s=1.5)"
   ]
  },
  {
   "cell_type": "markdown",
   "metadata": {},
   "source": [
    "solar powered water heater,\n",
    "gas water heater,\n",
    "electric water heater - peak hours,\n",
    "electric water heater - off peak hours,\n",
    "gas,\n",
    "natural gas,\n",
    "Jet Fuel,\n",
    "waste management,\n",
    "hybrid,\n",
    "electric - peak hours,\n",
    "electric - off peak hours"
   ]
  }
 ],
 "metadata": {
  "kernelspec": {
   "display_name": "Python 3",
   "language": "python",
   "name": "python3"
  },
  "language_info": {
   "codemirror_mode": {
    "name": "ipython",
    "version": 3
   },
   "file_extension": ".py",
   "mimetype": "text/x-python",
   "name": "python",
   "nbconvert_exporter": "python",
   "pygments_lexer": "ipython3",
   "version": "3.7.0"
  },
  "name": "Campus Analytics Challenge Live Green and Live Happy.ipynb"
 },
 "nbformat": 4,
 "nbformat_minor": 2
}
