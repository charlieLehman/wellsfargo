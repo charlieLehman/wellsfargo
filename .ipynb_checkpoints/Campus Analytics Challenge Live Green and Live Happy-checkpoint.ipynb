{
 "cells": [
  {
   "cell_type": "markdown",
   "metadata": {
    "ein.tags": "worksheet-0",
    "slideshow": {
     "slide_type": "-"
    }
   },
   "source": [
    "Using the data set, create a machine learning algorithm that minimizes carbon footprint for each customer while maintaining their total quality of life.  Your submission must include the components below:\n",
    "\n",
    "Deliverable 1\n",
    "\n",
    "A) Written description of how the data product succeeds mathematically in minimizing an individual’s carbon footprint with minimal negative impact on their utility\n",
    "\n",
    "B) Why the data product created is a good example of machine learning in action\n",
    "\n",
    "Deliverable 2\n",
    "\n",
    "A) General idea of how individuals would interface eg. a visual representation of the app\n",
    "\n",
    "Deliverable 3\n",
    "\n",
    "A) Documented code that is operational and can be run using the data provided\n"
   ]
  },
  {
   "cell_type": "code",
   "execution_count": 4,
   "metadata": {
    "autoscroll": false,
    "collapsed": false,
    "ein.hycell": false,
    "ein.tags": "worksheet-0",
    "slideshow": {
     "slide_type": "-"
    }
   },
   "outputs": [
    {
     "name": "stdout",
     "output_type": "stream",
     "text": [
      "Index(['Indnum', 'Group', 'Activity', 'Units', 'Consumption',\n",
      "       'Quality_of_Life_Importance__1_10', 'solar_powered__water_heater',\n",
      "       'gas_water_heater', 'electric_water_heater___peak_hou',\n",
      "       'electric_water_heater___off_peak', 'gas', 'natural_gas', 'hybrid',\n",
      "       'electric___peak_hours', 'electric___off_peak_hours', 'jetfuel'],\n",
      "      dtype='object')\n",
      "['Household heating => 70F' 'Household heating < 70F' 'Use of heat pump'\n",
      " 'Use of air conditioner' 'shower - short' 'shower - long (> 3 min)'\n",
      " 'bath' 'wash-up' 'use of dishwasher' 'use of clothes washer'\n",
      " 'use of clothes dryer' 'use of cooking range' 'use of  oven'\n",
      " 'use of self-clean feature of electric oven'\n",
      " 'Small kitchen appliance in the home' 'TV/computer use'\n",
      " 'air travel - large plane' 'air travel - small  plane (<50 seats)'\n",
      " 'car trips- self only' 'car trips - driver and self'\n",
      " 'car trips - 2+ people with multiple end points'\n",
      " 'trips using public ground transportation' 'bags of garbage disposed'\n",
      " 'bags of recycling deposited (negative CF)'\n",
      " 'bags of compost deposited (negative CF)'\n",
      " 'hazardous or electric items disposed' 'large items disposed']\n"
     ]
    }
   ],
   "source": [
    "import pandas as pd\n",
    "\n",
    "df = pd.read_csv('wells_Individuals.csv')\n",
    "print(df.columns)\n",
    "print(df['Activity'].unique())\n"
   ]
  },
  {
   "cell_type": "code",
   "execution_count": 5,
   "metadata": {
    "autoscroll": false,
    "collapsed": false,
    "ein.hycell": false,
    "ein.tags": "worksheet-0",
    "slideshow": {
     "slide_type": "-"
    }
   },
   "outputs": [],
   "source": [
    "import seaborn as sns\n",
    "\n",
    "x = df['Quality_of_Life_Importance__1_10']*df['Consumption']\n",
    "\n"
   ]
  }
 ],
 "metadata": {
  "kernelspec": {
   "display_name": "Python 3",
   "name": "python3"
  },
  "language_info": {
   "codemirror_mode": {
    "name": "ipython",
    "version": 3
   },
   "file_extension": ".py",
   "mimetype": "text/x-python",
   "name": "python",
   "nbconvert_exporter": "python",
   "pygments_lexer": "ipython3",
   "version": "3.7.0"
  },
  "name": "Campus Analytics Challenge Live Green and Live Happy.ipynb"
 },
 "nbformat": 4,
 "nbformat_minor": 2
}
